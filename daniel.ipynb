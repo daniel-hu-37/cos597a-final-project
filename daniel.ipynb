{
 "cells": [
  {
   "cell_type": "code",
   "execution_count": 10,
   "metadata": {},
   "outputs": [],
   "source": [
    "import numpy as np\n",
    "# from sklearn.metrics.pairwise import euclidean_distances"
   ]
  },
  {
   "cell_type": "code",
   "execution_count": 9,
   "metadata": {},
   "outputs": [],
   "source": [
    "from datetime import datetime"
   ]
  },
  {
   "cell_type": "code",
   "execution_count": 11,
   "metadata": {},
   "outputs": [],
   "source": [
    "# NSW\n",
    "class NSWNode:\n",
    "    def __init__(self, data):\n",
    "        self.data = data\n",
    "        self.neighbors = []\n",
    "\n",
    "class NSWGraph:\n",
    "    def __init__(self):\n",
    "        self.nodes = []\n",
    "\n",
    "    def add_node(self, data):\n",
    "        new_node = NSWNode(data)\n",
    "        for node in self.nodes:\n",
    "            # Connect new node with existing nodes if they are close\n",
    "            if self.should_connect(new_node, node):\n",
    "                new_node.neighbors.append(node)\n",
    "                node.neighbors.append(new_node)\n",
    "        self.nodes.append(new_node)\n",
    "\n",
    "    def should_connect(self, node1, node2, threshold=0.5):\n",
    "        # This function decides if two nodes should be connected.\n",
    "        # Threshold can be adjusted based on dataset characteristics.\n",
    "        distance = np.linalg.norm(node1.data - node2.data)\n",
    "        return distance < threshold\n",
    "\n",
    "    def greedy_search(self, query, max_steps=100):\n",
    "        if not self.nodes:\n",
    "            return None\n",
    "\n",
    "        current = np.random.choice(self.nodes)\n",
    "        for _ in range(max_steps):\n",
    "            if current is None:\n",
    "                break\n",
    "            closest = min(current.neighbors + [current], key=lambda node: np.linalg.norm(node.data - query))\n",
    "            if closest == current:\n",
    "                break\n",
    "            current = closest\n",
    "        return current\n",
    "\n",
    "    def beam_search(self, query, beam_width=2, max_steps = 100):\n",
    "        if not self.nodes:\n",
    "            return None\n",
    "\n",
    "        current = np.random.choice(self.nodes)\n",
    "        for _ in range(max_steps):\n",
    "            if current is None:\n",
    "                break\n",
    "            closest = min(current.neighbors + [current], key=lambda node: np.linalg.norm(node.data - query))\n",
    "            if closest == current:\n",
    "                break\n",
    "            current = closest\n",
    "        return current"
   ]
  },
  {
   "cell_type": "code",
   "execution_count": 15,
   "metadata": {},
   "outputs": [
    {
     "name": "stdout",
     "output_type": "stream",
     "text": [
      "1000\n",
      "0:00:00.067083\n",
      "\n",
      "2000\n",
      "0:00:00.131408\n",
      "\n",
      "4000\n",
      "0:00:00.269464\n",
      "\n"
     ]
    }
   ],
   "source": [
    "def test():\n",
    "    def time(graph):\n",
    "        start = datetime.now()\n",
    "        for _ in range(100):\n",
    "            query_point = np.random.rand(10)\n",
    "            nearest_neighbor = graph.greedy_search(query_point)\n",
    "        end = datetime.now()\n",
    "        print(len(graph.nodes))\n",
    "        print(end - start)\n",
    "        print()\n",
    "\n",
    "    def add(graph, node_count):\n",
    "        for _ in range(node_count):\n",
    "            graph.add_node(np.random.rand(10))\n",
    "\n",
    "    nsw1 = NSWGraph()\n",
    "    nsw2 = NSWGraph()\n",
    "    nsw3 = NSWGraph()\n",
    "\n",
    "    add(nsw1, 1000)\n",
    "    add(nsw2, 2000)\n",
    "    add(nsw3, 4000)\n",
    "\n",
    "    time(nsw1)\n",
    "    time(nsw2)\n",
    "    time(nsw3)\n",
    "\n",
    "test()"
   ]
  }
 ],
 "metadata": {
  "kernelspec": {
   "display_name": "Python 3",
   "language": "python",
   "name": "python3"
  },
  "language_info": {
   "codemirror_mode": {
    "name": "ipython",
    "version": 3
   },
   "file_extension": ".py",
   "mimetype": "text/x-python",
   "name": "python",
   "nbconvert_exporter": "python",
   "pygments_lexer": "ipython3",
   "version": "3.11.6"
  }
 },
 "nbformat": 4,
 "nbformat_minor": 2
}
