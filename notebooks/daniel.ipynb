{
 "cells": [
  {
   "cell_type": "code",
   "execution_count": 9,
   "metadata": {},
   "outputs": [],
   "source": [
    "from datetime import datetime"
   ]
  },
  {
   "cell_type": "code",
   "execution_count": 11,
   "metadata": {},
   "outputs": [],
   "source": [
    "# NSW\n",
    "class NSWNode:\n",
    "    def __init__(self, data):\n",
    "        self.data = data\n",
    "        self.neighbors = []\n",
    "\n",
    "class NSWGraph:\n",
    "    def __init__(self):\n",
    "        self.nodes = []\n",
    "\n",
    "    def add_node(self, data):\n",
    "        new_node = NSWNode(data)\n",
    "        for node in self.nodes:\n",
    "            # Connect new node with existing nodes if they are close\n",
    "            if self.should_connect(new_node, node):\n",
    "                new_node.neighbors.append(node)\n",
    "                node.neighbors.append(new_node)\n",
    "        self.nodes.append(new_node)\n",
    "\n",
    "    def should_connect(self, node1, node2, threshold=0.5):\n",
    "        # This function decides if two nodes should be connected.\n",
    "        # Threshold can be adjusted based on dataset characteristics.\n",
    "        distance = np.linalg.norm(node1.data - node2.data)\n",
    "        return distance < threshold\n",
    "\n",
    "    def greedy_search(self, query, max_steps=100):\n",
    "        if not self.nodes:\n",
    "            return None\n",
    "\n",
    "        current = np.random.choice(self.nodes)\n",
    "        for _ in range(max_steps):\n",
    "            if current is None:\n",
    "                break\n",
    "            closest = min(current.neighbors + [current], key=lambda node: np.linalg.norm(node.data - query))\n",
    "            if closest == current:\n",
    "                break\n",
    "            current = closest\n",
    "        return current\n",
    "\n",
    "    def beam_search(self, query, beam_width=2, max_steps = 100):\n",
    "        if not self.nodes:\n",
    "            return None\n",
    "\n",
    "        current = np.random.choice(self.nodes)\n",
    "        for _ in range(max_steps):\n",
    "            if current is None:\n",
    "                break\n",
    "            closest = min(current.neighbors + [current], key=lambda node: np.linalg.norm(node.data - query))\n",
    "            if closest == current:\n",
    "                break\n",
    "            current = closest\n",
    "        return current"
   ]
  }
 ],
 "metadata": {
  "kernelspec": {
   "display_name": "Python 3",
   "language": "python",
   "name": "python3"
  },
  "language_info": {
   "codemirror_mode": {
    "name": "ipython",
    "version": 3
   },
   "file_extension": ".py",
   "mimetype": "text/x-python",
   "name": "python",
   "nbconvert_exporter": "python",
   "pygments_lexer": "ipython3",
   "version": "3.11.6"
  }
 },
 "nbformat": 4,
 "nbformat_minor": 2
}
