{
 "cells": [
  {
   "cell_type": "code",
   "execution_count": 1,
   "metadata": {},
   "outputs": [],
   "source": [
    "import sys\n",
    "sys.path.append('..')\n",
    "sys.path.append('../src/')\n",
    "import numpy as np\n",
    "from tqdm import tqdm\n",
    "from scipy.spatial import distance\n",
    "import pickle\n",
    "from src.graph_class import Graph\n",
    "\n",
    "from datetime import datetime"
   ]
  },
  {
   "cell_type": "code",
   "execution_count": 4,
   "metadata": {},
   "outputs": [],
   "source": [
    "# now define a function to read the fvecs file format of Sift1M dataset\n",
    "def read_fvecs(fp):\n",
    "    a = np.fromfile(fp, dtype='int32')\n",
    "    d = a[0]\n",
    "    return a.reshape(-1, d + 1)[:, 1:].copy().view('float32')\n",
    "\n",
    "def read_ivecs(fname):\n",
    "    a = np.fromfile(fname, dtype='int32')\n",
    "    d = a[0]\n",
    "    return a.reshape(-1, d + 1)[:, 1:].copy()"
   ]
  },
  {
   "cell_type": "code",
   "execution_count": 6,
   "metadata": {},
   "outputs": [],
   "source": [
    "def calculate_recall(predicted_neighbors, actual_neighbors):\n",
    "    total_recall = 0\n",
    "\n",
    "    for pred, actual in zip(predicted_neighbors, actual_neighbors):\n",
    "        true_positives = len(set(pred) & set(actual))\n",
    "        possible_positives = len(set(actual))\n",
    "\n",
    "        recall = true_positives / possible_positives if possible_positives else 0\n",
    "\n",
    "        total_recall += recall\n",
    "\n",
    "    average_recall = total_recall / len(actual_neighbors)\n",
    "\n",
    "    return average_recall"
   ]
  },
  {
   "cell_type": "code",
   "execution_count": 7,
   "metadata": {},
   "outputs": [],
   "source": [
    "# read in data\n",
    "# data we will search through\n",
    "\n",
    "base = read_fvecs('C:/Users/ewang/OneDrive/Desktop/Fall 2023/cos597a-final-project/data/siftsmall/siftsmall_base.fvecs')  # 1M samples\n",
    "# also get some query vectors to search with\n",
    "query = read_fvecs('C:/Users/ewang/OneDrive/Desktop/Fall 2023/cos597a-final-project/data/siftsmall/siftsmall_query.fvecs')\n",
    "# take just one query (there are many in sift_learn.fvecs)\n",
    "# xq = xq[0].reshape(1, xq.shape[1])\n",
    "\n",
    "groundtruth = read_ivecs('C:/Users/ewang/OneDrive/Desktop/Fall 2023/cos597a-final-project/data/siftsmall/siftsmall_groundtruth.ivecs')"
   ]
  },
  {
   "cell_type": "code",
   "execution_count": 120,
   "metadata": {},
   "outputs": [],
   "source": [
    "with open('../graphs/fixed-graph-set-k3-m3.pkl', 'rb') as f:\n",
    "    ggraph = pickle.load(f)"
   ]
  },
  {
   "cell_type": "code",
   "execution_count": 40,
   "metadata": {},
   "outputs": [],
   "source": [
    "with open('../graphs/beam-graph-set-k3-m1.pkl', 'rb') as f:\n",
    "    bgraph = pickle.load(f)"
   ]
  },
  {
   "cell_type": "code",
   "execution_count": 121,
   "metadata": {},
   "outputs": [
    {
     "name": "stderr",
     "output_type": "stream",
     "text": [
      "100%|██████████| 100/100 [00:11<00:00,  8.81it/s]\n"
     ]
    }
   ],
   "source": [
    "k = 10\n",
    "results_greedy = []\n",
    "results_beam = []\n",
    "greedytime = 0.0\n",
    "beamtime = 0.0\n",
    "for q in tqdm(query):\n",
    "  start = datetime.now()\n",
    "  g = [r[1] for r in ggraph.greedy_search(ggraph.graph, q, k=k, m = 10)[0]]\n",
    "\n",
    "  end = datetime.now()\n",
    "  greedytime += (end-start).total_seconds()\n",
    "  start= datetime.now()\n",
    "  b = [r[1] for r in ggraph.beam_search(ggraph.graph, q, k=k, m =10)[0]]\n",
    "  end = datetime.now()\n",
    "  beamtime += (end-start).total_seconds()\n",
    "  results_greedy.append(g)\n",
    "  results_beam.append(b)"
   ]
  },
  {
   "cell_type": "code",
   "execution_count": 119,
   "metadata": {},
   "outputs": [
    {
     "name": "stdout",
     "output_type": "stream",
     "text": [
      "5.498977999999996\n",
      "6.101148999999999\n"
     ]
    }
   ],
   "source": [
    "print(greedytime)\n",
    "print(beamtime)"
   ]
  },
  {
   "cell_type": "code",
   "execution_count": 64,
   "metadata": {},
   "outputs": [
    {
     "name": "stdout",
     "output_type": "stream",
     "text": [
      "Average number of edges per vertex:  5.9988\n"
     ]
    }
   ],
   "source": [
    "sum = 0\n",
    "for i in range(len(graph.graph)):\n",
    "  sum += len(graph.graph[i].neighborhood)\n",
    "\n",
    "print(\"Average number of edges per vertex: \", sum/len(graph.graph))"
   ]
  },
  {
   "cell_type": "code",
   "execution_count": 84,
   "metadata": {},
   "outputs": [],
   "source": [
    "true = groundtruth[:, :k]"
   ]
  },
  {
   "cell_type": "code",
   "execution_count": 122,
   "metadata": {},
   "outputs": [
    {
     "name": "stdout",
     "output_type": "stream",
     "text": [
      "0.8630000000000004\n"
     ]
    }
   ],
   "source": [
    "average_recall = calculate_recall(results_greedy, true)\n",
    "print(average_recall)"
   ]
  },
  {
   "cell_type": "code",
   "execution_count": 123,
   "metadata": {},
   "outputs": [
    {
     "name": "stdout",
     "output_type": "stream",
     "text": [
      "0.8880000000000001\n"
     ]
    }
   ],
   "source": [
    "average_recall = calculate_recall(results_beam, true)\n",
    "print(average_recall)"
   ]
  },
  {
   "cell_type": "code",
   "execution_count": 48,
   "metadata": {},
   "outputs": [
    {
     "name": "stderr",
     "output_type": "stream",
     "text": [
      "100%|██████████| 100/100 [00:01<00:00, 93.27it/s]\n"
     ]
    }
   ],
   "source": [
    "k = 10\n",
    "results_greedy = []\n",
    "results_beam = []\n",
    "greedytime = 0.0\n",
    "beamtime = 0.0\n",
    "for q in tqdm(query):\n",
    "  start = datetime.now()\n",
    "  g = [r[1] for r in bgraph.greedy_search(bgraph.graph, q, k=k, m = 1)[0]]\n",
    "\n",
    "  end = datetime.now()\n",
    "  greedytime += (end-start).total_seconds()\n",
    "  start= datetime.now()\n",
    "  b = [r[1] for r in bgraph.beam_search(bgraph.graph, q, k=k, m =1)[0]]\n",
    "  end = datetime.now()\n",
    "  beamtime += (end-start).total_seconds()\n",
    "  results_greedy.append(g)\n",
    "  results_beam.append(b)"
   ]
  },
  {
   "cell_type": "code",
   "execution_count": 12,
   "metadata": {},
   "outputs": [
    {
     "name": "stdout",
     "output_type": "stream",
     "text": [
      "1000\n",
      "0:00:00.108000\n",
      "\n",
      "2000\n",
      "0:00:00.214994\n",
      "\n",
      "4000\n",
      "0:00:00.432016\n",
      "\n"
     ]
    }
   ],
   "source": [
    "def test():\n",
    "    def time(graph):\n",
    "        start = datetime.now()\n",
    "        for _ in range(100):\n",
    "            query_point = np.random.rand(10)\n",
    "            nearest_neighbor = graph.greedy_search(query_point)\n",
    "        end = datetime.now()\n",
    "        print(len(graph.nodes))\n",
    "        print(end - start)\n",
    "        print()\n",
    "\n",
    "    def add(graph, node_count):\n",
    "        for _ in range(node_count):\n",
    "            graph.add_node(np.random.rand(10))\n",
    "\n",
    "    nsw1 = NSWGraph()\n",
    "    nsw2 = NSWGraph()\n",
    "    nsw3 = NSWGraph()\n",
    "\n",
    "    add(nsw1, 1000)\n",
    "    add(nsw2, 2000)\n",
    "    add(nsw3, 4000)\n",
    "\n",
    "    time(nsw1)\n",
    "    time(nsw2)\n",
    "    time(nsw3)\n",
    "\n",
    "test()"
   ]
  }
 ],
 "metadata": {
  "kernelspec": {
   "display_name": "Python 3",
   "language": "python",
   "name": "python3"
  },
  "language_info": {
   "codemirror_mode": {
    "name": "ipython",
    "version": 3
   },
   "file_extension": ".py",
   "mimetype": "text/x-python",
   "name": "python",
   "nbconvert_exporter": "python",
   "pygments_lexer": "ipython3",
   "version": "3.12.0"
  }
 },
 "nbformat": 4,
 "nbformat_minor": 2
}
