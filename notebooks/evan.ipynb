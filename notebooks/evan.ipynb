{
 "cells": [
  {
   "cell_type": "code",
   "execution_count": 13,
   "metadata": {},
   "outputs": [],
   "source": [
    "import sys\n",
    "sys.path.append('..')  \n",
    "import numpy as np\n",
    "from tqdm import tqdm\n",
    "from scipy.spatial import distance\n",
    "import pickle\n",
    "from src.graph_class import Graph"
   ]
  },
  {
   "cell_type": "code",
   "execution_count": 3,
   "metadata": {},
   "outputs": [],
   "source": [
    "# now define a function to read the fvecs file format of Sift1M dataset\n",
    "def read_fvecs(fp):\n",
    "    a = np.fromfile(fp, dtype='int32')\n",
    "    d = a[0]\n",
    "    return a.reshape(-1, d + 1)[:, 1:].copy().view('float32')\n",
    "\n",
    "def read_ivecs(fname):\n",
    "    a = np.fromfile(fname, dtype='int32')\n",
    "    d = a[0]\n",
    "    return a.reshape(-1, d + 1)[:, 1:].copy()"
   ]
  },
  {
   "cell_type": "code",
   "execution_count": 4,
   "metadata": {},
   "outputs": [],
   "source": [
    "def calculate_recall(predicted_neighbors, actual_neighbors):\n",
    "    total_recall = 0\n",
    "    \n",
    "    for pred, actual in zip(predicted_neighbors, actual_neighbors):\n",
    "        true_positives = len(set(pred) & set(actual))\n",
    "        possible_positives = len(set(actual))\n",
    "\n",
    "        recall = true_positives / possible_positives if possible_positives else 0\n",
    "\n",
    "        total_recall += recall\n",
    "\n",
    "    average_recall = total_recall / len(actual_neighbors)\n",
    "\n",
    "    return average_recall"
   ]
  },
  {
   "cell_type": "code",
   "execution_count": 6,
   "metadata": {},
   "outputs": [],
   "source": [
    "# read in data\n",
    "# data we will search through\n",
    "\n",
    "base = read_fvecs('C:/Users/ewang/OneDrive/Desktop/Fall 2023/cos597a-final-project/data/siftsmall/siftsmall_base.fvecs')  # 1M samples\n",
    "# also get some query vectors to search with\n",
    "query = read_fvecs('C:/Users/ewang/OneDrive/Desktop/Fall 2023/cos597a-final-project/data/siftsmall/siftsmall_query.fvecs')\n",
    "# take just one query (there are many in sift_learn.fvecs)\n",
    "# xq = xq[0].reshape(1, xq.shape[1])\n",
    "\n",
    "groundtruth = read_ivecs('C:/Users/ewang/OneDrive/Desktop/Fall 2023/cos597a-final-project/data/siftsmall/siftsmall_groundtruth.ivecs')"
   ]
  },
  {
   "cell_type": "code",
   "execution_count": null,
   "metadata": {},
   "outputs": [],
   "source": []
  },
  {
   "cell_type": "code",
   "execution_count": 16,
   "metadata": {},
   "outputs": [
    {
     "name": "stderr",
     "output_type": "stream",
     "text": [
      "Building Graph:   0%|          | 0/10000 [00:00<?, ?it/s]"
     ]
    },
    {
     "name": "stderr",
     "output_type": "stream",
     "text": [
      "Building Graph:   2%|▏         | 245/10000 [00:01<00:55, 176.89it/s]\n"
     ]
    },
    {
     "ename": "KeyboardInterrupt",
     "evalue": "",
     "output_type": "error",
     "traceback": [
      "\u001b[1;31m---------------------------------------------------------------------------\u001b[0m",
      "\u001b[1;31mKeyboardInterrupt\u001b[0m                         Traceback (most recent call last)",
      "\u001b[1;32mc:\\Users\\ewang\\OneDrive\\Desktop\\Fall 2023\\cos597a-final-project\\notebooks\\evan.ipynb Cell 6\u001b[0m line \u001b[0;36m5\n\u001b[0;32m      <a href='vscode-notebook-cell:/c%3A/Users/ewang/OneDrive/Desktop/Fall%202023/cos597a-final-project/notebooks/evan.ipynb#X11sZmlsZQ%3D%3D?line=1'>2</a>\u001b[0m k \u001b[39m=\u001b[39m \u001b[39m10\u001b[39m\n\u001b[0;32m      <a href='vscode-notebook-cell:/c%3A/Users/ewang/OneDrive/Desktop/Fall%202023/cos597a-final-project/notebooks/evan.ipynb#X11sZmlsZQ%3D%3D?line=2'>3</a>\u001b[0m \u001b[39m# selected_rows = np.random.choice(xb.shape[0], round(0.001*xb.shape[0]), replace=False)\u001b[39;00m\n\u001b[0;32m      <a href='vscode-notebook-cell:/c%3A/Users/ewang/OneDrive/Desktop/Fall%202023/cos597a-final-project/notebooks/evan.ipynb#X11sZmlsZQ%3D%3D?line=3'>4</a>\u001b[0m \u001b[39m# index_factors = xb[selected_rows]\u001b[39;00m\n\u001b[1;32m----> <a href='vscode-notebook-cell:/c%3A/Users/ewang/OneDrive/Desktop/Fall%202023/cos597a-final-project/notebooks/evan.ipynb#X11sZmlsZQ%3D%3D?line=4'>5</a>\u001b[0m graph \u001b[39m=\u001b[39m g1\u001b[39m.\u001b[39;49mbuild_nsw_greedy(base, k)\n",
      "File \u001b[1;32mc:\\Users\\ewang\\OneDrive\\Desktop\\Fall 2023\\cos597a-final-project\\notebooks\\..\\src\\graph_class.py:156\u001b[0m, in \u001b[0;36mGraph.build_nsw_greedy\u001b[1;34m(self, index_factors, k)\u001b[0m\n\u001b[0;32m    153\u001b[0m \u001b[39m# if we already have more than k nodes in the graph, attach to the\u001b[39;00m\n\u001b[0;32m    154\u001b[0m \u001b[39m# k nearest neihgbors, found by greedy search\u001b[39;00m\n\u001b[0;32m    155\u001b[0m \u001b[39mif\u001b[39;00m i \u001b[39m>\u001b[39m k:\n\u001b[1;32m--> 156\u001b[0m     neighbors, hops \u001b[39m=\u001b[39m \u001b[39mself\u001b[39;49m\u001b[39m.\u001b[39;49mgreedy_search(graph, node\u001b[39m.\u001b[39;49mvalue, k)\n\u001b[0;32m    157\u001b[0m     neighbors_indices \u001b[39m=\u001b[39m [node_idx \u001b[39mfor\u001b[39;00m _, node_idx \u001b[39min\u001b[39;00m neighbors]\n\u001b[0;32m    158\u001b[0m \u001b[39melse\u001b[39;00m:\n",
      "File \u001b[1;32mc:\\Users\\ewang\\OneDrive\\Desktop\\Fall 2023\\cos597a-final-project\\notebooks\\..\\src\\graph_class.py:109\u001b[0m, in \u001b[0;36mGraph.greedy_search\u001b[1;34m(self, graph, query, k, m)\u001b[0m\n\u001b[0;32m    106\u001b[0m                 heapq\u001b[39m.\u001b[39mheappush(temp_result_queue, (friend_dist, friend_node))\n\u001b[0;32m    107\u001b[0m                 hops \u001b[39m+\u001b[39m\u001b[39m=\u001b[39m \u001b[39m1\u001b[39m\n\u001b[1;32m--> 109\u001b[0m     result_queue \u001b[39m=\u001b[39m \u001b[39mlist\u001b[39m(heapq\u001b[39m.\u001b[39mmerge(result_queue, temp_result_queue))\n\u001b[0;32m    111\u001b[0m \u001b[39mreturn\u001b[39;00m heapq\u001b[39m.\u001b[39mnsmallest(k, result_queue), hops \u001b[39m/\u001b[39m m\n",
      "\u001b[1;31mKeyboardInterrupt\u001b[0m: "
     ]
    }
   ],
   "source": [
    "g1 = Graph(\"sys\", data = base)\n",
    "k = 10\n",
    "# selected_rows = np.random.choice(xb.shape[0], round(0.001*xb.shape[0]), replace=False)\n",
    "# index_factors = xb[selected_rows]\n",
    "graph = g1.build_nsw_greedy(base, k)"
   ]
  },
  {
   "cell_type": "code",
   "execution_count": 104,
   "metadata": {},
   "outputs": [],
   "source": [
    "\n",
    "with open(\"graph.pkl\", \"wb\") as f:\n",
    "    pickle.dump(graph, f)"
   ]
  },
  {
   "cell_type": "code",
   "execution_count": 123,
   "metadata": {},
   "outputs": [],
   "source": [
    "with open('graph.pkl', 'rb') as f:\n",
    "    objects = pickle.load(f)"
   ]
  },
  {
   "cell_type": "code",
   "execution_count": 154,
   "metadata": {},
   "outputs": [
    {
     "data": {
      "text/plain": [
       "100"
      ]
     },
     "execution_count": 154,
     "metadata": {},
     "output_type": "execute_result"
    }
   ],
   "source": [
    "len(query)"
   ]
  },
  {
   "cell_type": "code",
   "execution_count": 193,
   "metadata": {},
   "outputs": [
    {
     "name": "stderr",
     "output_type": "stream",
     "text": [
      "100%|██████████| 100/100 [00:51<00:00,  1.93it/s]\n"
     ]
    }
   ],
   "source": [
    "k = 5\n",
    "results_greedy = []\n",
    "results_beam = []\n",
    "for q in tqdm(query):\n",
    "  g = [r[1] for r in greedy_search(graph, q, k=k)[0]]\n",
    "  b = [r[1] for r in beam_search(graph, q, k=k)[0]]\n",
    "  results_greedy.append(g)\n",
    "  results_beam.append(b)"
   ]
  },
  {
   "cell_type": "code",
   "execution_count": 194,
   "metadata": {},
   "outputs": [],
   "source": [
    "true = groundtruth[:, :k]"
   ]
  },
  {
   "cell_type": "code",
   "execution_count": 204,
   "metadata": {},
   "outputs": [
    {
     "name": "stdout",
     "output_type": "stream",
     "text": [
      "0.9919999999999999\n"
     ]
    }
   ],
   "source": [
    "average_recall = calculate_recall(results_greedy, true)\n",
    "print(average_recall)"
   ]
  },
  {
   "cell_type": "code",
   "execution_count": 206,
   "metadata": {},
   "outputs": [
    {
     "name": "stdout",
     "output_type": "stream",
     "text": [
      "0.9059999999999995\n"
     ]
    }
   ],
   "source": [
    "average_recall = calculate_recall(results_beam, true)\n",
    "print(average_recall)"
   ]
  },
  {
   "cell_type": "code",
   "execution_count": 12,
   "metadata": {},
   "outputs": [
    {
     "name": "stdout",
     "output_type": "stream",
     "text": [
      "1000\n",
      "0:00:00.108000\n",
      "\n",
      "2000\n",
      "0:00:00.214994\n",
      "\n",
      "4000\n",
      "0:00:00.432016\n",
      "\n"
     ]
    }
   ],
   "source": [
    "def test():\n",
    "    def time(graph):\n",
    "        start = datetime.now()\n",
    "        for _ in range(100):\n",
    "            query_point = np.random.rand(10)\n",
    "            nearest_neighbor = graph.greedy_search(query_point)\n",
    "        end = datetime.now()\n",
    "        print(len(graph.nodes))\n",
    "        print(end - start)\n",
    "        print()\n",
    "\n",
    "    def add(graph, node_count):\n",
    "        for _ in range(node_count):\n",
    "            graph.add_node(np.random.rand(10))\n",
    "\n",
    "    nsw1 = NSWGraph()\n",
    "    nsw2 = NSWGraph()\n",
    "    nsw3 = NSWGraph()\n",
    "\n",
    "    add(nsw1, 1000)\n",
    "    add(nsw2, 2000)\n",
    "    add(nsw3, 4000)\n",
    "\n",
    "    time(nsw1)\n",
    "    time(nsw2)\n",
    "    time(nsw3)\n",
    "\n",
    "test()"
   ]
  }
 ],
 "metadata": {
  "kernelspec": {
   "display_name": "Python 3",
   "language": "python",
   "name": "python3"
  },
  "language_info": {
   "codemirror_mode": {
    "name": "ipython",
    "version": 3
   },
   "file_extension": ".py",
   "mimetype": "text/x-python",
   "name": "python",
   "nbconvert_exporter": "python",
   "pygments_lexer": "ipython3",
   "version": "3.12.0"
  }
 },
 "nbformat": 4,
 "nbformat_minor": 2
}
